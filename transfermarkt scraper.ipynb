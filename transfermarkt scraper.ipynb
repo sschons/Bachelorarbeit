{
 "cells": [
  {
   "cell_type": "code",
   "execution_count": 10,
   "id": "3e6fdd42-0060-496e-8739-172cc11c9c10",
   "metadata": {
    "scrolled": true
   },
   "outputs": [],
   "source": [
    "import pandas as pd\n",
    "import re\n",
    "import requests\n",
    "from bs4 import BeautifulSoup\n",
    "import time\n",
    "import json\n",
    "import csv"
   ]
  },
  {
   "cell_type": "code",
   "execution_count": 11,
   "id": "65f6ab54-feaf-4ac0-aa67-5918eae3e185",
   "metadata": {},
   "outputs": [],
   "source": [
    "def get_table_html(session, season, page):\n",
    "    url_season = f'https://www.transfermarkt.com/transfers/saisontransfers/statistik/top/ajax/yw0/saison_id/{season}/transferfenster/alle/land_id//ausrichtung//spielerposition_id//altersklasse//leihe//plus/13/galerie/0/page/{page}'\n",
    "    \n",
    "    response = session.get(url_season)\n",
    "    \n",
    "    return BeautifulSoup(response.text)"
   ]
  },
  {
   "cell_type": "code",
   "execution_count": 12,
   "id": "bc813666-56f1-4a6f-863c-584a692c4fad",
   "metadata": {},
   "outputs": [],
   "source": [
    "def marktwert_numerical(marktwert):\n",
    "    numerical_part = ''.join(filter(str.isdigit, marktwert))\n",
    "    if numerical_part:\n",
    "        return float(numerical_part)/100\n",
    "    else:\n",
    "        return 0"
   ]
  },
  {
   "cell_type": "code",
   "execution_count": 26,
   "id": "0c8bd05c-e46a-442f-921f-e290ceb37bb3",
   "metadata": {},
   "outputs": [],
   "source": [
    "def ablöse_wert(wert,details):\n",
    "    numerical_part = ''.join(filter(str.isdigit, wert))\n",
    "    wert = wert.lower()\n",
    "    if numerical_part:\n",
    "        details[\"Transfer Typ\"] = \"Dauerhaft\"\n",
    "        return float(numerical_part)/100\n",
    "    else:\n",
    "        if 'loan' in wert:\n",
    "            details[\"Transfer Typ\"] = \"Leihe\"\n",
    "            return None\n",
    "        elif wert == 'free transfer':\n",
    "            details[\"Transfer Typ\"] = \"Ablösefrei\"\n",
    "            return None\n",
    "        else:\n",
    "            details[\"Transfer Typ\"] = \"Unbekannt\"\n",
    "            return None"
   ]
  },
  {
   "cell_type": "code",
   "execution_count": 14,
   "id": "81bc397f-447e-429a-926d-b08fb288e28e",
   "metadata": {},
   "outputs": [],
   "source": [
    "def scrape_season_page(session, season, page):\n",
    "    season_soup = get_table_html(session, season, page)\n",
    "    rows_odd = season_soup.find_all(class_ = \"odd\")\n",
    "    rows_even = season_soup.find_all(class_ = \"even\")\n",
    "    rows = []\n",
    "    transfer_details = {}\n",
    "    data = []\n",
    "    \n",
    "    for oddrow in rows_odd:\n",
    "        rows.append(oddrow)\n",
    "    for evenrow in rows_even:\n",
    "        rows.append(evenrow)\n",
    "    \n",
    "    for row in rows:\n",
    "        transfer_details[\"Saison\"] = str(season)[-2:]\n",
    "        transfer_details[\"Spieler\"] = row.find_all(\"td\")[1].find_all(\"tr\")[0].text.strip()\n",
    "        transfer_details[\"Position\"] = row.find_all(\"td\")[1].find_all(\"tr\")[1].text.strip()\n",
    "        transfer_details[\"Alter\"] = row.find_all(\"td\")[5].text.strip()\n",
    "        transfer_details[\"Marktwert\"] = marktwert_numerical(row.find_all(\"td\")[6].text.strip())\n",
    "        transfer_details[\"Nationalität\"] = row.find_all(\"td\")[7].find_all(\"img\")[0][\"title\"].strip()\n",
    "        transfer_details[\"Abgebender Verein\"] = row.find_all(\"td\")[8].find_all(\"tr\")[0].find_all(\"td\")[1].text.strip()\n",
    "        # Falls kein abgebender Verein vorhanden\n",
    "        try:\n",
    "            transfer_details[\"Abgebende Liga\"] = row.find_all(\"td\")[8].find_all(\"tr\")[1].find_all(\"a\")[0].text.strip()\n",
    "        except:\n",
    "            transfer_details[\"Abgebende Liga\"] = \"Without Club\"\n",
    "        transfer_details[\"Aufnehmender Verein\"] = row.find_all(\"td\")[12].find_all(\"tr\")[0].find_all(\"td\")[1].text.strip()\n",
    "        try:\n",
    "            # Schlägt fehl, wenn Liga nicht mit Transfermarkt-Link\n",
    "            transfer_details[\"Aufnehmende Liga\"] = row.find_all(\"td\")[12].find_all(\"tr\")[1].find_all(\"a\")[0].text.strip()\n",
    "        except:\n",
    "            # Dann nehme Bezeichnung der Flagge (wie Transfermarkt es auch macht)\n",
    "            try:\n",
    "                # Möglicher Fall: Spieler wurde gebannt, daher auch keine Flagge vorhanden:\n",
    "                transfer_details[\"Aufnehmende Liga\"] = row.find_all(\"td\")[12].find_all(\"tr\")[1].find_all(\"img\")[0][\"title\"].strip()\n",
    "            except:\n",
    "                # Scrape \"Bann\"-Text\n",
    "                transfer_details[\"Aufnehmende Liga\"] = row.find_all(\"td\")[12].find_all(\"tr\")[0].find_all(\"td\")[1].text.strip()\n",
    "                \n",
    "        transfer_details[\"Ablöse\"] = ablöse_wert(row.find_all(\"td\")[16].text.strip(),transfer_details)\n",
    "        \n",
    "        data.append(transfer_details.copy())\n",
    "        \n",
    "    return data"
   ]
  },
  {
   "cell_type": "code",
   "execution_count": 31,
   "id": "76e3b15e-81ba-44fe-8210-a0e2973e024c",
   "metadata": {},
   "outputs": [],
   "source": [
    "def scrape_transfers(scrape_seasons):\n",
    "    headers = {\n",
    "        \"User-Agent\": \"Mozilla/5.0 (Windows NT 10.0; Win64; x64) AppleWebKit/537.36 (KHTML, like Gecko) Chrome/130.0.0.0 Safari/537.36\"\n",
    "    }\n",
    "\n",
    "    session = requests.session()\n",
    "    session.headers.update(headers)\n",
    "\n",
    "    season_dataset = []\n",
    "    \n",
    "    for season in scrape_seasons:   \n",
    "        print('scraping:', season, \"page:\")\n",
    "        \n",
    "        for page in range(1,81):\n",
    "            \n",
    "            print(page, end=\"\\r\", flush=True)\n",
    "            \n",
    "            for transfer in scrape_season_page(session, season, page):\n",
    "                season_dataset.append(transfer)\n",
    "        print(\"... done ...\")\n",
    "        \n",
    "    filename = f'C:\\\\Users\\\\soere\\\\Bachelorarbeit\\\\datasets\\\\transfers.csv'\n",
    "    \n",
    "    with open(filename, 'w', newline='', encoding='utf8') as csvfile:\n",
    "        fieldnames = ['Saison','Spieler','Position','Alter','Marktwert','Nationalität','Abgebender Verein','Abgebende Liga','Aufnehmender Verein','Aufnehmende Liga','Ablöse','Transfer Typ']\n",
    "        writer = csv.DictWriter(csvfile, fieldnames=fieldnames)\n",
    "        writer.writeheader()\n",
    "        writer.writerows(season_dataset)\n",
    "            \n",
    "    return None"
   ]
  },
  {
   "cell_type": "code",
   "execution_count": 32,
   "id": "604f29a6-dfd3-40d3-9a40-51d9f322f262",
   "metadata": {},
   "outputs": [
    {
     "name": "stdout",
     "output_type": "stream",
     "text": [
      "scraping: 2018 page:\n",
      "... done ...\n",
      "scraping: 2019 page:\n",
      "... done ...\n",
      "scraping: 2020 page:\n",
      "... done ...\n",
      "scraping: 2021 page:\n",
      "... done ...\n",
      "scraping: 2022 page:\n",
      "... done ...\n",
      "scraping: 2023 page:\n",
      "... done ...\n",
      "scraping: 2024 page:\n",
      "... done ...\n"
     ]
    }
   ],
   "source": [
    "scrape_transfers([2018,2019,2020,2021,2022,2023,2024])"
   ]
  }
 ],
 "metadata": {
  "kernelspec": {
   "display_name": "Python 3 (ipykernel)",
   "language": "python",
   "name": "python3"
  },
  "language_info": {
   "codemirror_mode": {
    "name": "ipython",
    "version": 3
   },
   "file_extension": ".py",
   "mimetype": "text/x-python",
   "name": "python",
   "nbconvert_exporter": "python",
   "pygments_lexer": "ipython3",
   "version": "3.12.3"
  }
 },
 "nbformat": 4,
 "nbformat_minor": 5
}
